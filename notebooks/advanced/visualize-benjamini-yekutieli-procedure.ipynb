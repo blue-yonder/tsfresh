{
 "cells": [
  {
   "cell_type": "markdown",
   "metadata": {
    "deletable": true,
    "editable": true
   },
   "source": [
    "The Benjamini Yekutieli (BY) procedure is a multiple testing procedure that can be used to control the accumulation in type 1 errors when comparing multiple hypothesis at the same time.\n",
    "\n",
    "In the tsfresh filtering the BY procedure is used to decide which features to use and which to keep. \n",
    "\n",
    "The method is based on a line, the so called rejection line, that is compared to the sequence of ordered p-values. In this notebook, we will visualize that rejection line."
   ]
  },
  {
   "cell_type": "code",
   "execution_count": null,
   "metadata": {
    "collapsed": false,
    "deletable": true,
    "editable": true
   },
   "outputs": [],
   "source": [
    "%matplotlib inline\n",
    "\n",
    "import matplotlib\n",
    "import matplotlib.pyplot as plt\n",
    "import pandas as pd\n",
    "import numpy as np\n",
    "\n",
    "from tsfresh.examples.robot_execution_failures import download_robot_execution_failures, load_robot_execution_failures\n",
    "from tsfresh import defaults, extract_features\n",
    "from tsfresh.feature_selection.relevance import calculate_relevance_table\n",
    "from tsfresh.utilities.dataframe_functions import impute\n",
    "from tsfresh.feature_extraction import ComprehensiveFCParameters\n",
    "\n",
    "matplotlib.rcParams[\"figure.figsize\"] = [16, 6]\n",
    "matplotlib.rcParams[\"font.size\"] = 14\n",
    "matplotlib.style.use('seaborn-darkgrid')"
   ]
  },
  {
   "cell_type": "markdown",
   "metadata": {
    "deletable": true,
    "editable": true
   },
   "source": [
    "## Parameter setting"
   ]
  },
  {
   "cell_type": "code",
   "execution_count": null,
   "metadata": {
    "collapsed": true,
    "deletable": true,
    "editable": true
   },
   "outputs": [],
   "source": [
    "FDR_LEVEL = defaults.FDR_LEVEL\n",
    "HYPOTHESES_INDEPENDENT = defaults.HYPOTHESES_INDEPENDENT"
   ]
  },
  {
   "cell_type": "markdown",
   "metadata": {
    "deletable": true,
    "editable": true
   },
   "source": [
    "## Load robot data"
   ]
  },
  {
   "cell_type": "code",
   "execution_count": null,
   "metadata": {
    "collapsed": false,
    "deletable": true,
    "editable": true
   },
   "outputs": [],
   "source": [
    "download_robot_execution_failures()\n",
    "df, y = load_robot_execution_failures()\n",
    "df.head()"
   ]
  },
  {
   "cell_type": "markdown",
   "metadata": {
    "deletable": true,
    "editable": true
   },
   "source": [
    "## Extract Features"
   ]
  },
  {
   "cell_type": "code",
   "execution_count": null,
   "metadata": {
    "collapsed": false,
    "deletable": true,
    "editable": true
   },
   "outputs": [],
   "source": [
    "X = extract_features(df, \n",
    "                     column_id='id', column_sort='time',\n",
    "                     default_fc_parameters=ComprehensiveFCParameters(),\n",
    "                     impute_function=impute)"
   ]
  },
  {
   "cell_type": "code",
   "execution_count": null,
   "metadata": {
    "collapsed": false
   },
   "outputs": [],
   "source": [
    "# drop constant features\n",
    "print(X.shape)\n",
    "X = X.loc[:, X.apply(pd.Series.nunique) != 1] \n",
    "print(X.shape)"
   ]
  },
  {
   "cell_type": "markdown",
   "metadata": {
    "deletable": true,
    "editable": true
   },
   "source": [
    "## Calculate p-values and Benjamini-Yekutieli Procedure\n",
    "\n",
    "tsfresh has implemented two different feature significance tests, the Mann-Whitney-U test and the Kolmogorov-Smirnov test. In the following, both of them are being illustrated to show a scientific report of the feature selection process and to give a comparison of the differences of both methods."
   ]
  },
  {
   "cell_type": "markdown",
   "metadata": {
    "deletable": true,
    "editable": true
   },
   "source": [
    "### Mann-Whitney-U\n",
    "Run significance test with Mann-Whitney-U test. Returns the p-values of the features and whether they are rejected or not."
   ]
  },
  {
   "cell_type": "code",
   "execution_count": null,
   "metadata": {
    "collapsed": false,
    "deletable": true,
    "editable": true
   },
   "outputs": [],
   "source": [
    "df_pvalues_mann = calculate_relevance_table(X, y, fdr_level=FDR_LEVEL, test_for_binary_target_real_feature='mann')"
   ]
  },
  {
   "cell_type": "code",
   "execution_count": null,
   "metadata": {
    "collapsed": false,
    "deletable": true,
    "editable": true
   },
   "outputs": [],
   "source": [
    "print(\"# total \\t\", len(df_pvalues_mann))\n",
    "print(\"# relevant \\t\", (df_pvalues_mann[\"relevant\"] == True).sum())\n",
    "print(\"# irrelevant \\t\", (df_pvalues_mann[\"relevant\"] == False).sum(),\n",
    "      \"( # constant\", (df_pvalues_mann[\"type\"] == \"const\").sum(), \")\")"
   ]
  },
  {
   "cell_type": "code",
   "execution_count": null,
   "metadata": {
    "collapsed": false,
    "deletable": true,
    "editable": true
   },
   "outputs": [],
   "source": [
    "df_pvalues_mann.head()"
   ]
  },
  {
   "cell_type": "markdown",
   "metadata": {
    "deletable": true,
    "editable": true
   },
   "source": [
    "### Kolmogorov-Smirnov\n",
    "Run significance test with Kolmogorov-Smirnov test. Returns the p-values of the features and whether they are rejected or not."
   ]
  },
  {
   "cell_type": "code",
   "execution_count": null,
   "metadata": {
    "collapsed": false,
    "deletable": true,
    "editable": true
   },
   "outputs": [],
   "source": [
    "df_pvalues_smir = calculate_relevance_table(X, y, fdr_level=FDR_LEVEL, test_for_binary_target_real_feature='smir')"
   ]
  },
  {
   "cell_type": "code",
   "execution_count": null,
   "metadata": {
    "collapsed": false,
    "deletable": true,
    "editable": true
   },
   "outputs": [],
   "source": [
    "print(\"# total \\t\", len(df_pvalues_smir))\n",
    "print(\"# relevant \\t\", (df_pvalues_smir[\"relevant\"] == True).sum())\n",
    "print(\"# irrelevant \\t\", (df_pvalues_smir[\"relevant\"] == False).sum(),\n",
    "      \"( # constant\", (df_pvalues_smir[\"type\"] == \"const\").sum(), \")\")"
   ]
  },
  {
   "cell_type": "code",
   "execution_count": null,
   "metadata": {
    "collapsed": false,
    "deletable": true,
    "editable": true
   },
   "outputs": [],
   "source": [
    "df_pvalues_smir.head()"
   ]
  },
  {
   "cell_type": "markdown",
   "metadata": {
    "deletable": true,
    "editable": true
   },
   "source": [
    "## Calculate rejection line\n",
    "With the rejection line it is determined whether a feature is relevant or irrelevant."
   ]
  },
  {
   "cell_type": "code",
   "execution_count": null,
   "metadata": {},
   "outputs": [],
   "source": [
    "def calc_rejection_line(df_pvalues, hypothesis_independent, fdr_level):\n",
    "    \n",
    "    m = len(df_pvalues.loc[~(df_pvalues.type == \"const\")])\n",
    "    K = list(range(1, m + 1))\n",
    "    \n",
    "    if hypothesis_independent:\n",
    "        C = [1] * m\n",
    "    else:\n",
    "        C = [sum([1.0 / k for k in K])] * m\n",
    "\n",
    "    return [fdr_level * k / m * 1.0 / c for k, c in zip(K, C)]  "
   ]
  },
  {
   "cell_type": "markdown",
   "metadata": {
    "deletable": true,
    "editable": true
   },
   "source": [
    "### Mann-Whitney-U"
   ]
  },
  {
   "cell_type": "code",
   "execution_count": null,
   "metadata": {
    "collapsed": true,
    "deletable": true,
    "editable": true
   },
   "outputs": [],
   "source": [
    "rejection_line_mann = calc_rejection_line(df_pvalues_mann, HYPOTHESES_INDEPENDENT, FDR_LEVEL)"
   ]
  },
  {
   "cell_type": "markdown",
   "metadata": {
    "deletable": true,
    "editable": true
   },
   "source": [
    "### Kolmogorov-Smirnov"
   ]
  },
  {
   "cell_type": "code",
   "execution_count": null,
   "metadata": {
    "collapsed": true,
    "deletable": true,
    "editable": true
   },
   "outputs": [],
   "source": [
    "rejection_line_smir = calc_rejection_line(df_pvalues_smir, HYPOTHESES_INDEPENDENT, FDR_LEVEL)"
   ]
  },
  {
   "cell_type": "markdown",
   "metadata": {
    "deletable": true,
    "editable": true
   },
   "source": [
    "## Plot ordered p-values and rejection line\n",
    "\n",
    "In the plot, the p-values are ordered from low to high. Constant features (green points) are always irrelevant but are not considered for calculating the rejection line (red line).\n",
    "\n",
    "For nice plotting, the p-values are divided in the three groups relevant, irrelevant and constant (which are also irrelevant)."
   ]
  },
  {
   "cell_type": "markdown",
   "metadata": {
    "deletable": true,
    "editable": true
   },
   "source": [
    "### Mann-Whitney-U"
   ]
  },
  {
   "cell_type": "code",
   "execution_count": null,
   "metadata": {
    "collapsed": false,
    "deletable": true,
    "editable": true
   },
   "outputs": [],
   "source": [
    "df_pvalues_mann.index = pd.Series(range(0, len(df_pvalues_mann.index)))\n",
    "\n",
    "df_pvalues_mann.p_value.where(df_pvalues_mann.relevant)\\\n",
    "    .plot(style=\".\", label=\"relevant features\")\n",
    "\n",
    "df_pvalues_mann.p_value.where(~df_pvalues_mann.relevant & (df_pvalues_mann.type != \"const\"))\\\n",
    "    .plot(style=\".\", label=\"irrelevant features\")\n",
    "\n",
    "df_pvalues_mann.p_value.fillna(1).where(df_pvalues_mann.type == \"const\")\\\n",
    "    .plot(style=\".\", label=\"irrelevant (constant) features\")\n",
    "\n",
    "plt.plot(rejection_line_mann, label=\"rejection line (FDR = \" + str(FDR_LEVEL) + \")\")\n",
    "plt.xlabel(\"Feature #\")\n",
    "plt.ylabel(\"p-value\")\n",
    "plt.title(\"Mann-Whitney-U\")\n",
    "plt.legend()\n",
    "plt.plot()"
   ]
  },
  {
   "cell_type": "markdown",
   "metadata": {
    "deletable": true,
    "editable": true
   },
   "source": [
    "### Kolmogorov-Smirnov"
   ]
  },
  {
   "cell_type": "code",
   "execution_count": null,
   "metadata": {
    "collapsed": false,
    "deletable": true,
    "editable": true
   },
   "outputs": [],
   "source": [
    "df_pvalues_smir.index = pd.Series(range(0, len(df_pvalues_smir.index)))\n",
    "\n",
    "df_pvalues_smir.p_value.where(df_pvalues_smir.relevant)\\\n",
    "    .plot(style=\".\", label=\"relevant features\")\n",
    "\n",
    "df_pvalues_smir.p_value.where(~df_pvalues_smir.relevant & (df_pvalues_smir.type != \"const\"))\\\n",
    "    .plot(style=\".\", label=\"irrelevant features\")\n",
    "\n",
    "df_pvalues_smir.p_value.fillna(1).where(df_pvalues_smir.type == \"const\")\\\n",
    "    .plot(style=\".\", label=\"irrelevant (constant) features\")\n",
    "\n",
    "plt.plot(rejection_line_smir, label=\"rejection line (FDR = \" + str(FDR_LEVEL) + \")\")\n",
    "plt.xlabel(\"Feature #\")\n",
    "plt.ylabel(\"p-value\")\n",
    "plt.title(\"Kolmogorov-Smirnov\")\n",
    "plt.legend()\n",
    "plt.plot()"
   ]
  },
  {
   "cell_type": "markdown",
   "metadata": {
    "deletable": true,
    "editable": true
   },
   "source": [
    "## Plot zoomed ordered p-values and rejection line\n",
    "Since the intersection of the ordered p-values and the rejection line is not clearly visible, a zoomed plot is provided."
   ]
  },
  {
   "cell_type": "markdown",
   "metadata": {
    "deletable": true,
    "editable": true
   },
   "source": [
    "### Mann-Whitney-U"
   ]
  },
  {
   "cell_type": "code",
   "execution_count": null,
   "metadata": {
    "collapsed": false,
    "deletable": true,
    "editable": true
   },
   "outputs": [],
   "source": [
    "last_rejected_index = (df_pvalues_mann[\"relevant\"] == True).sum() - 1\n",
    "margin = 20\n",
    "a = max(last_rejected_index - margin, 0)\n",
    "b = min(last_rejected_index + margin, len(df_pvalues_mann) - 1)\n",
    "\n",
    "df_pvalues_mann[a:b].p_value.where(df_pvalues_mann[a:b].relevant)\\\n",
    "    .plot(style=\".\", label=\"relevant features\")\n",
    "df_pvalues_mann[a:b].p_value.where(~df_pvalues_mann[a:b].relevant)\\\n",
    "    .plot(style=\".\", label=\"irrelevant features\")\n",
    "plt.plot(np.arange(a, b), rejection_line_mann[a:b], label=\"rejection line (FDR = \" + str(FDR_LEVEL) + \")\")\n",
    "plt.xlabel(\"Feature #\")\n",
    "plt.ylabel(\"p-value\")\n",
    "plt.title(\"Mann-Whitney-U\")\n",
    "plt.legend()\n",
    "plt.plot()"
   ]
  },
  {
   "cell_type": "markdown",
   "metadata": {
    "deletable": true,
    "editable": true
   },
   "source": [
    "### Kolmogorov-Smirnov"
   ]
  },
  {
   "cell_type": "code",
   "execution_count": null,
   "metadata": {
    "collapsed": false,
    "deletable": true,
    "editable": true
   },
   "outputs": [],
   "source": [
    "last_rejected_index = (df_pvalues_smir[\"relevant\"] == True).sum() - 1\n",
    "margin = 20\n",
    "a = max(last_rejected_index - margin, 0)\n",
    "b = min(last_rejected_index + margin, len(df_pvalues_smir) - 1)\n",
    "\n",
    "df_pvalues_smir[a:b].p_value.where(df_pvalues_smir[a:b].relevant)\\\n",
    "    .plot(style=\".\", label=\"relevant features\")\n",
    "df_pvalues_smir[a:b].p_value.where(~df_pvalues_smir[a:b].relevant)\\\n",
    "    .plot(style=\".\", label=\"irrelevant features\")\n",
    "plt.plot(np.arange(a, b), rejection_line_smir[a:b], label=\"rejection line (FDR = \" + str(FDR_LEVEL) + \")\")\n",
    "plt.xlabel(\"Feature #\")\n",
    "plt.ylabel(\"p-value\")\n",
    "plt.title(\"Kolmogorov-Smirnov\")\n",
    "plt.legend()\n",
    "plt.plot()"
   ]
  }
 ],
 "metadata": {
  "kernelspec": {
   "display_name": "Python 2",
   "language": "python",
   "name": "python2"
  },
  "language_info": {
   "codemirror_mode": {
    "name": "ipython",
    "version": 2
   },
   "file_extension": ".py",
   "mimetype": "text/x-python",
   "name": "python",
   "nbconvert_exporter": "python",
   "pygments_lexer": "ipython2",
   "version": "2.7.11"
  }
 },
 "nbformat": 4,
 "nbformat_minor": 2
}
