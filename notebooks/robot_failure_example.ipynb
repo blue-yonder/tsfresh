{
 "cells": [
  {
   "cell_type": "code",
   "execution_count": null,
   "metadata": {
    "collapsed": false
   },
   "outputs": [],
   "source": [
    "from tsfresh.examples.robot_execution_failures import load_robot_execution_failures\n",
    "from tsfresh import extract_features, extract_relevant_features\n",
    "from tsfresh.feature_extraction import FeatureExtractionSettings\n",
    "from tsfresh.utilities.dataframe_functions import impute_dataframe_range\n",
    "import pandas as pd\n",
    "import numpy as np\n",
    "from sklearn.tree import DecisionTreeClassifier\n",
    "from sklearn.cross_validation import train_test_split\n",
    "from sklearn.metrics import classification_report"
   ]
  },
  {
   "cell_type": "markdown",
   "metadata": {},
   "source": [
    "# Load and process data"
   ]
  },
  {
   "cell_type": "code",
   "execution_count": null,
   "metadata": {
    "collapsed": false,
    "scrolled": true
   },
   "outputs": [],
   "source": [
    "df, y = load_robot_execution_failures()\n",
    "df.head()"
   ]
  },
  {
   "cell_type": "code",
   "execution_count": null,
   "metadata": {
    "collapsed": true
   },
   "outputs": [],
   "source": [
    "extraction_settings = FeatureExtractionSettings()\n",
    "extraction_settings.IMPUTE = impute_dataframe_range"
   ]
  },
  {
   "cell_type": "code",
   "execution_count": null,
   "metadata": {
    "collapsed": false
   },
   "outputs": [],
   "source": [
    "X = extract_features(df, feature_extraction_settings=extraction_settings, column_id='id', column_sort='time')"
   ]
  },
  {
   "cell_type": "code",
   "execution_count": null,
   "metadata": {
    "collapsed": false
   },
   "outputs": [],
   "source": [
    "X.head()"
   ]
  },
  {
   "cell_type": "code",
   "execution_count": null,
   "metadata": {
    "collapsed": false
   },
   "outputs": [],
   "source": [
    "X.info()"
   ]
  },
  {
   "cell_type": "code",
   "execution_count": null,
   "metadata": {
    "collapsed": false
   },
   "outputs": [],
   "source": [
    "X_filtered = extract_relevant_features(df, y, feature_extraction_settings=extraction_settings, column_id='id', column_sort='time')"
   ]
  },
  {
   "cell_type": "code",
   "execution_count": null,
   "metadata": {
    "collapsed": false
   },
   "outputs": [],
   "source": [
    "X_filtered.head()"
   ]
  },
  {
   "cell_type": "code",
   "execution_count": null,
   "metadata": {
    "collapsed": false
   },
   "outputs": [],
   "source": [
    "X_filtered.info()"
   ]
  },
  {
   "cell_type": "code",
   "execution_count": null,
   "metadata": {
    "collapsed": false
   },
   "outputs": [],
   "source": [
    "X_train, X_test, X_filtered_train, X_filtered_test, y_train, y_test = train_test_split(X, X_filtered, y, test_size=.4)"
   ]
  },
  {
   "cell_type": "markdown",
   "metadata": {
    "collapsed": true
   },
   "source": [
    "# Train and evaluate classifier"
   ]
  },
  {
   "cell_type": "code",
   "execution_count": null,
   "metadata": {
    "collapsed": false
   },
   "outputs": [],
   "source": [
    "cl = DecisionTreeClassifier()\n",
    "cl.fit(X_train, y_train)\n",
    "print(classification_report(y_test, cl.predict(X_test)))"
   ]
  },
  {
   "cell_type": "code",
   "execution_count": null,
   "metadata": {
    "collapsed": false
   },
   "outputs": [],
   "source": [
    "cl.n_features_"
   ]
  },
  {
   "cell_type": "code",
   "execution_count": null,
   "metadata": {
    "collapsed": false
   },
   "outputs": [],
   "source": [
    "cl2 = DecisionTreeClassifier()\n",
    "cl2.fit(X_filtered_train, y_train)\n",
    "print(classification_report(y_test, cl2.predict(X_filtered_test)))"
   ]
  },
  {
   "cell_type": "code",
   "execution_count": null,
   "metadata": {
    "collapsed": false
   },
   "outputs": [],
   "source": [
    "cl2.n_features_"
   ]
  },
  {
   "cell_type": "markdown",
   "metadata": {
    "collapsed": true
   },
   "source": [
    "# Plot some selected algorithms"
   ]
  },
  {
   "cell_type": "code",
   "execution_count": null,
   "metadata": {
    "collapsed": true
   },
   "outputs": [],
   "source": [
    "import matplotlib.pylab as plt\n",
    "import seaborn as sns"
   ]
  },
  {
   "cell_type": "code",
   "execution_count": null,
   "metadata": {
    "collapsed": true
   },
   "outputs": [],
   "source": [
    "%matplotlib inline"
   ]
  },
  {
   "cell_type": "code",
   "execution_count": null,
   "metadata": {
    "collapsed": false
   },
   "outputs": [],
   "source": [
    "id_curr=3\n",
    "\n",
    "plt.figure(figsize=[12, 6])\n",
    "plt.suptitle(\"Time series for id={} (no failure)\".format(id_curr), fontsize=18)\n",
    "\n",
    "plt.subplot(2,3,1)\n",
    "plt.plot(range(15), df.loc[df.id==id_curr, \"a\"])\n",
    "plt.ylim([-30, 30])\n",
    "plt.title(\"a\")\n",
    "\n",
    "plt.subplot(2,3,2)\n",
    "plt.plot(range(15), df.loc[df.id==id_curr, \"b\"])\n",
    "plt.ylim([-30, 30])\n",
    "plt.title(\"b\")\n",
    "\n",
    "plt.subplot(2,3,3)\n",
    "plt.plot(range(15), df.loc[df.id==id_curr, \"c\"])\n",
    "plt.ylim([0, 100])\n",
    "plt.title(\"c\")\n",
    "\n",
    "plt.subplot(2,3,4)\n",
    "plt.plot(range(15), df.loc[df.id==id_curr, \"d\"])\n",
    "plt.ylim([-30, 30])\n",
    "plt.title(\"d\")\n",
    "\n",
    "plt.subplot(2,3,5)\n",
    "plt.plot(range(15), df.loc[df.id==id_curr, \"e\"])\n",
    "plt.ylim([-30, 30])\n",
    "plt.title(\"e\")\n",
    "\n",
    "plt.subplot(2,3,6)\n",
    "plt.plot(range(15), df.loc[df.id==id_curr, \"f\"])\n",
    "plt.ylim([-30, 30])\n",
    "plt.title(\"f\")\n",
    "\n",
    "plt.savefig(\"ts_example_robot_failures_nofail.png\")\n",
    "plt.show()"
   ]
  },
  {
   "cell_type": "code",
   "execution_count": null,
   "metadata": {
    "collapsed": false
   },
   "outputs": [],
   "source": [
    "id_curr=20\n",
    "\n",
    "plt.figure(figsize=[12, 6])\n",
    "plt.suptitle(\"Time series for id={} (failure)\".format(id_curr), fontsize=18)\n",
    "\n",
    "plt.subplot(2,3,1)\n",
    "plt.plot(range(15), df.loc[df.id==id_curr, \"a\"])\n",
    "plt.ylim([-30, 30])\n",
    "plt.title(\"a\", fontsize=17)\n",
    "\n",
    "plt.subplot(2,3,2)\n",
    "plt.plot(range(15), df.loc[df.id==id_curr, \"b\"])\n",
    "plt.ylim([-30, 30])\n",
    "plt.title(\"b\")\n",
    "\n",
    "plt.subplot(2,3,3)\n",
    "plt.plot(range(15), df.loc[df.id==id_curr, \"c\"])\n",
    "plt.ylim([0, 100])\n",
    "plt.title(\"c\")\n",
    "\n",
    "plt.subplot(2,3,4)\n",
    "plt.plot(range(15), df.loc[df.id==id_curr, \"d\"])\n",
    "plt.ylim([-30, 30])\n",
    "plt.title(\"d\")\n",
    "\n",
    "plt.subplot(2,3,5)\n",
    "plt.plot(range(15), df.loc[df.id==id_curr, \"e\"])\n",
    "plt.ylim([-30, 30])\n",
    "plt.title(\"e\")\n",
    "\n",
    "plt.subplot(2,3,6)\n",
    "plt.plot(range(15), df.loc[df.id==id_curr, \"f\"])\n",
    "plt.ylim([-30, 30])\n",
    "plt.title(\"f\")\n",
    "\n",
    "plt.savefig(\"ts_example_robot_failures_fail.png\")\n",
    "plt.show()"
   ]
  },
  {
   "cell_type": "code",
   "execution_count": null,
   "metadata": {
    "collapsed": true
   },
   "outputs": [],
   "source": [
    "plt.close()"
   ]
  }
 ],
 "metadata": {
  "kernelspec": {
   "display_name": "Python 2",
   "language": "python",
   "name": "python2"
  },
  "language_info": {
   "codemirror_mode": {
    "name": "ipython",
    "version": 2
   },
   "file_extension": ".py",
   "mimetype": "text/x-python",
   "name": "python",
   "nbconvert_exporter": "python",
   "pygments_lexer": "ipython2",
   "version": "2.7.3"
  }
 },
 "nbformat": 4,
 "nbformat_minor": 1
}
