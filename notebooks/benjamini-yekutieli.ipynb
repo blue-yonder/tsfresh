{
 "cells": [
  {
   "cell_type": "code",
   "execution_count": 1,
   "metadata": {},
   "outputs": [
    {
     "name": "stderr",
     "output_type": "stream",
     "text": [
      "E:\\Windows\\Anaconda3\\lib\\site-packages\\statsmodels\\compat\\pandas.py:56: FutureWarning: The pandas.core.datetools module is deprecated and will be removed in a future version. Please use the pandas.tseries module instead.\n",
      "  from pandas.core import datetools\n"
     ]
    }
   ],
   "source": [
    "%matplotlib inline\n",
    "\n",
    "import matplotlib\n",
    "import matplotlib.pyplot as plt\n",
    "import pandas as pd\n",
    "import numpy as np\n",
    "\n",
    "from tsfresh.examples.robot_execution_failures import download_robot_execution_failures, load_robot_execution_failures\n",
    "from tsfresh import defaults, extract_features\n",
    "from tsfresh.feature_selection.feature_selector import check_fs_sig_bh\n",
    "from tsfresh.utilities.dataframe_functions import impute\n",
    "from tsfresh.feature_extraction import ComprehensiveFCParameters\n",
    "\n",
    "matplotlib.rcParams[\"figure.figsize\"] = [16, 6]\n",
    "matplotlib.rcParams[\"font.size\"] = 14\n",
    "matplotlib.style.use('seaborn-darkgrid')"
   ]
  },
  {
   "cell_type": "markdown",
   "metadata": {},
   "source": [
    "## Parameter setting"
   ]
  },
  {
   "cell_type": "code",
   "execution_count": 2,
   "metadata": {
    "collapsed": true
   },
   "outputs": [],
   "source": [
    "FDR_LEVEL = defaults.FDR_LEVEL\n",
    "HYPOTHESES_INDEPENDENT = defaults.HYPOTHESES_INDEPENDENT"
   ]
  },
  {
   "cell_type": "markdown",
   "metadata": {},
   "source": [
    "## Load robot data"
   ]
  },
  {
   "cell_type": "code",
   "execution_count": 3,
   "metadata": {},
   "outputs": [
    {
     "data": {
      "text/html": [
       "<div>\n",
       "<style>\n",
       "    .dataframe thead tr:only-child th {\n",
       "        text-align: right;\n",
       "    }\n",
       "\n",
       "    .dataframe thead th {\n",
       "        text-align: left;\n",
       "    }\n",
       "\n",
       "    .dataframe tbody tr th {\n",
       "        vertical-align: top;\n",
       "    }\n",
       "</style>\n",
       "<table border=\"1\" class=\"dataframe\">\n",
       "  <thead>\n",
       "    <tr style=\"text-align: right;\">\n",
       "      <th></th>\n",
       "      <th>id</th>\n",
       "      <th>time</th>\n",
       "      <th>a</th>\n",
       "      <th>b</th>\n",
       "      <th>c</th>\n",
       "      <th>d</th>\n",
       "      <th>e</th>\n",
       "      <th>f</th>\n",
       "    </tr>\n",
       "  </thead>\n",
       "  <tbody>\n",
       "    <tr>\n",
       "      <th>0</th>\n",
       "      <td>1</td>\n",
       "      <td>0</td>\n",
       "      <td>-1</td>\n",
       "      <td>-1</td>\n",
       "      <td>63</td>\n",
       "      <td>-3</td>\n",
       "      <td>-1</td>\n",
       "      <td>0</td>\n",
       "    </tr>\n",
       "    <tr>\n",
       "      <th>1</th>\n",
       "      <td>1</td>\n",
       "      <td>1</td>\n",
       "      <td>0</td>\n",
       "      <td>0</td>\n",
       "      <td>62</td>\n",
       "      <td>-3</td>\n",
       "      <td>-1</td>\n",
       "      <td>0</td>\n",
       "    </tr>\n",
       "    <tr>\n",
       "      <th>2</th>\n",
       "      <td>1</td>\n",
       "      <td>2</td>\n",
       "      <td>-1</td>\n",
       "      <td>-1</td>\n",
       "      <td>61</td>\n",
       "      <td>-3</td>\n",
       "      <td>0</td>\n",
       "      <td>0</td>\n",
       "    </tr>\n",
       "    <tr>\n",
       "      <th>3</th>\n",
       "      <td>1</td>\n",
       "      <td>3</td>\n",
       "      <td>-1</td>\n",
       "      <td>-1</td>\n",
       "      <td>63</td>\n",
       "      <td>-2</td>\n",
       "      <td>-1</td>\n",
       "      <td>0</td>\n",
       "    </tr>\n",
       "    <tr>\n",
       "      <th>4</th>\n",
       "      <td>1</td>\n",
       "      <td>4</td>\n",
       "      <td>-1</td>\n",
       "      <td>-1</td>\n",
       "      <td>63</td>\n",
       "      <td>-3</td>\n",
       "      <td>-1</td>\n",
       "      <td>0</td>\n",
       "    </tr>\n",
       "  </tbody>\n",
       "</table>\n",
       "</div>"
      ],
      "text/plain": [
       "   id  time  a  b   c  d  e  f\n",
       "0   1     0 -1 -1  63 -3 -1  0\n",
       "1   1     1  0  0  62 -3 -1  0\n",
       "2   1     2 -1 -1  61 -3  0  0\n",
       "3   1     3 -1 -1  63 -2 -1  0\n",
       "4   1     4 -1 -1  63 -3 -1  0"
      ]
     },
     "execution_count": 3,
     "metadata": {},
     "output_type": "execute_result"
    }
   ],
   "source": [
    "download_robot_execution_failures()\n",
    "df, y = load_robot_execution_failures()\n",
    "df.head()"
   ]
  },
  {
   "cell_type": "markdown",
   "metadata": {},
   "source": [
    "## Extract Features"
   ]
  },
  {
   "cell_type": "code",
   "execution_count": 4,
   "metadata": {},
   "outputs": [
    {
     "name": "stderr",
     "output_type": "stream",
     "text": [
      "Feature Extraction: 100%|██████████████████████████████████████████████████████████████████████████████████████████████████████████████████████████████████████████████████| 6/6 [00:17<00:00,  3.00s/it]\n",
      "WARNING:tsfresh.utilities.dataframe_functions:The columns ['a__spkt_welch_density__coeff_8' 'b__spkt_welch_density__coeff_8'\n",
      " 'c__spkt_welch_density__coeff_8' 'd__spkt_welch_density__coeff_8'\n",
      " 'f__spkt_welch_density__coeff_8' 'e__spkt_welch_density__coeff_8'] did not have any finite values. Filling with zeros.\n"
     ]
    }
   ],
   "source": [
    "X = extract_features(df, \n",
    "                     column_id='id', column_sort='time',\n",
    "                     default_fc_parameters=ComprehensiveFCParameters(),\n",
    "                     impute_function= impute)"
   ]
  },
  {
   "cell_type": "markdown",
   "metadata": {},
   "source": [
    "## Calculate p-values and Benjamini-Yekutieli Procedure"
   ]
  },
  {
   "cell_type": "code",
   "execution_count": 5,
   "metadata": {
    "collapsed": true
   },
   "outputs": [],
   "source": [
    "df_pvalues = check_fs_sig_bh(X, y, fdr_level=FDR_LEVEL)"
   ]
  },
  {
   "cell_type": "code",
   "execution_count": 6,
   "metadata": {},
   "outputs": [
    {
     "data": {
      "text/html": [
       "<div>\n",
       "<style>\n",
       "    .dataframe thead tr:only-child th {\n",
       "        text-align: right;\n",
       "    }\n",
       "\n",
       "    .dataframe thead th {\n",
       "        text-align: left;\n",
       "    }\n",
       "\n",
       "    .dataframe tbody tr th {\n",
       "        vertical-align: top;\n",
       "    }\n",
       "</style>\n",
       "<table border=\"1\" class=\"dataframe\">\n",
       "  <thead>\n",
       "    <tr style=\"text-align: right;\">\n",
       "      <th></th>\n",
       "      <th>Feature</th>\n",
       "      <th>rejected</th>\n",
       "      <th>type</th>\n",
       "      <th>p_value</th>\n",
       "    </tr>\n",
       "    <tr>\n",
       "      <th>Feature</th>\n",
       "      <th></th>\n",
       "      <th></th>\n",
       "      <th></th>\n",
       "      <th></th>\n",
       "    </tr>\n",
       "  </thead>\n",
       "  <tbody>\n",
       "    <tr>\n",
       "      <th>a__abs_energy</th>\n",
       "      <td>a__abs_energy</td>\n",
       "      <td>True</td>\n",
       "      <td>real</td>\n",
       "      <td>5.900086e-12</td>\n",
       "    </tr>\n",
       "    <tr>\n",
       "      <th>a__range_count__max_1__min_-1</th>\n",
       "      <td>a__range_count__max_1__min_-1</td>\n",
       "      <td>True</td>\n",
       "      <td>real</td>\n",
       "      <td>6.268453e-12</td>\n",
       "    </tr>\n",
       "    <tr>\n",
       "      <th>b__abs_energy</th>\n",
       "      <td>b__abs_energy</td>\n",
       "      <td>True</td>\n",
       "      <td>real</td>\n",
       "      <td>6.327674e-12</td>\n",
       "    </tr>\n",
       "    <tr>\n",
       "      <th>e__standard_deviation</th>\n",
       "      <td>e__standard_deviation</td>\n",
       "      <td>True</td>\n",
       "      <td>real</td>\n",
       "      <td>6.778390e-12</td>\n",
       "    </tr>\n",
       "    <tr>\n",
       "      <th>e__variance</th>\n",
       "      <td>e__variance</td>\n",
       "      <td>True</td>\n",
       "      <td>real</td>\n",
       "      <td>6.778390e-12</td>\n",
       "    </tr>\n",
       "  </tbody>\n",
       "</table>\n",
       "</div>"
      ],
      "text/plain": [
       "                                                     Feature  rejected  type  \\\n",
       "Feature                                                                        \n",
       "a__abs_energy                                  a__abs_energy      True  real   \n",
       "a__range_count__max_1__min_-1  a__range_count__max_1__min_-1      True  real   \n",
       "b__abs_energy                                  b__abs_energy      True  real   \n",
       "e__standard_deviation                  e__standard_deviation      True  real   \n",
       "e__variance                                      e__variance      True  real   \n",
       "\n",
       "                                    p_value  \n",
       "Feature                                      \n",
       "a__abs_energy                  5.900086e-12  \n",
       "a__range_count__max_1__min_-1  6.268453e-12  \n",
       "b__abs_energy                  6.327674e-12  \n",
       "e__standard_deviation          6.778390e-12  \n",
       "e__variance                    6.778390e-12  "
      ]
     },
     "execution_count": 6,
     "metadata": {},
     "output_type": "execute_result"
    }
   ],
   "source": [
    "df_pvalues.head()"
   ]
  },
  {
   "cell_type": "code",
   "execution_count": 7,
   "metadata": {},
   "outputs": [
    {
     "data": {
      "text/plain": [
       "{'# constant': 281, '# irrelevant': 1032, '# relevant': 300}"
      ]
     },
     "execution_count": 7,
     "metadata": {},
     "output_type": "execute_result"
    }
   ],
   "source": [
    "{\n",
    "    \"# relevant\": (df_pvalues[\"rejected\"] == True).sum(),\n",
    "    \"# irrelevant\": (df_pvalues[\"rejected\"] == False).sum(),\n",
    "    \"# constant\": (df_pvalues[\"type\"] == \"const\").sum()\n",
    "}"
   ]
  },
  {
   "cell_type": "markdown",
   "metadata": {},
   "source": [
    "## Calculate rejection line"
   ]
  },
  {
   "cell_type": "code",
   "execution_count": 8,
   "metadata": {
    "collapsed": true
   },
   "outputs": [],
   "source": [
    "m = len(df_pvalues.loc[~(df_pvalues.type == \"const\")])\n",
    "K = list(range(1, m + 1))\n",
    "\n",
    "if HYPOTHESES_INDEPENDENT:\n",
    "    # c(k) = 1\n",
    "    C = [1] * m\n",
    "else:\n",
    "    # c(k) = \\sum_{i=1}^m 1/i\n",
    "    C = [sum([1.0 / i for i in range(1, k + 1)]) for k in K]\n",
    "\n",
    "# Calculate the vector T to compare to the p_value\n",
    "rejection_line = [FDR_LEVEL * k / m * 1.0 / c for k, c in zip(K, C)]"
   ]
  },
  {
   "cell_type": "markdown",
   "metadata": {},
   "source": [
    "## Plot ordered p-values and rejection line"
   ]
  },
  {
   "cell_type": "code",
   "execution_count": 9,
   "metadata": {},
   "outputs": [
    {
     "data": {
      "text/plain": [
       "<matplotlib.legend.Legend at 0x20757279908>"
      ]
     },
     "execution_count": 9,
     "metadata": {},
     "output_type": "execute_result"
    },
    {
     "data": {
      "image/png": "[encoded data removed]",
      "text/plain": [
       "<matplotlib.figure.Figure at 0x2075726dc88>"
      ]
     },
     "metadata": {},
     "output_type": "display_data"
    }
   ],
   "source": [
    "df_pvalues.index = pd.Series(range(0, len(df_pvalues.index)))\n",
    "\n",
    "df_pvalues.p_value.astype(np.float)\\\n",
    "    .where(df_pvalues.rejected)\\\n",
    "    .plot(style=\".\", label=\"relevant features\")\n",
    "\n",
    "df_pvalues.p_value.astype(np.float)\\\n",
    "    .where(~df_pvalues.rejected & (df_pvalues.type != \"const\"))\\\n",
    "    .plot(style=\".\", label=\"irrelevant features\")\n",
    "\n",
    "df_pvalues.p_value.astype(np.float)\\\n",
    "    .fillna(1)\\\n",
    "    .where(df_pvalues.type == \"const\")\\\n",
    "    .plot(style=\".\", label=\"irrelevant (constant) features\")\n",
    "\n",
    "plt.plot(rejection_line, label=\"rejection line (FDR = \" + str(FDR_LEVEL) + \")\")\n",
    "plt.xlabel(\"Feature #\")\n",
    "plt.ylabel(\"p-value\")\n",
    "plt.legend()"
   ]
  },
  {
   "cell_type": "markdown",
   "metadata": {},
   "source": [
    "## Plot zoomed ordered p-values and rejection line"
   ]
  },
  {
   "cell_type": "code",
   "execution_count": 10,
   "metadata": {},
   "outputs": [
    {
     "data": {
      "text/plain": [
       "<matplotlib.legend.Legend at 0x207576dcc88>"
      ]
     },
     "execution_count": 10,
     "metadata": {},
     "output_type": "execute_result"
    },
    {
     "data": {
      "image/png": "[encoded data removed]",
      "text/plain": [
       "<matplotlib.figure.Figure at 0x207570af048>"
      ]
     },
     "metadata": {},
     "output_type": "display_data"
    }
   ],
   "source": [
    "last_rejected_index = (df_pvalues[\"rejected\"] == True).sum() - 1\n",
    "margin = 20\n",
    "a = max(last_rejected_index - margin, 0)\n",
    "b = min(last_rejected_index + margin, len(df_pvalues) - 1)\n",
    "\n",
    "df_pvalues[a:b].p_value.where(df_pvalues[a:b].rejected).astype(np.float)\\\n",
    "    .plot(style=\".\", label=\"relevant features\")\n",
    "df_pvalues[a:b].p_value.where(~df_pvalues[a:b].rejected).astype(np.float)\\\n",
    "    .plot(style=\".\", label=\"irrelevant features\")\n",
    "plt.plot(np.arange(a, b), rejection_line[a:b], label=\"rejection line (FDR = \" + str(FDR_LEVEL) + \")\")\n",
    "plt.xlabel(\"Feature #\")\n",
    "plt.ylabel(\"p-value\")\n",
    "plt.legend()"
   ]
  },
  {
   "cell_type": "code",
   "execution_count": null,
   "metadata": {
    "collapsed": true
   },
   "outputs": [],
   "source": []
  }
 ],
 "metadata": {
  "kernelspec": {
   "display_name": "Python 3",
   "language": "python",
   "name": "python3"
  },
  "language_info": {
   "codemirror_mode": {
    "name": "ipython",
    "version": 3
   },
   "file_extension": ".py",
   "mimetype": "text/x-python",
   "name": "python",
   "nbconvert_exporter": "python",
   "pygments_lexer": "ipython3",
   "version": "3.6.1"
  }
 },
 "nbformat": 4,
 "nbformat_minor": 2
}
