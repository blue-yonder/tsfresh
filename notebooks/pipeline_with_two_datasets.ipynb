{
 "cells": [
  {
   "cell_type": "markdown",
   "metadata": {
    "deletable": true,
    "editable": true
   },
   "source": [
    "# Using the RelevantFeatureAugmenter with separate datasets for train and test data\n",
    "\n",
    "This notebook illustrates the RelevantFeatureAugmenter in pipelines where you have first train on samples from dataset `df_train` but then want to test using samples from another `df_test`.\n",
    "(Here `df_train` and `df_test` refer to the dataframes that contain the time series data)\n",
    "\n",
    "Due to limitations in the sklearn pipeline API one has to use the `ppl.set_params(fresh__timeseries_container=df)` method for those two dataframes between train and test run."
   ]
  },
  {
   "cell_type": "code",
   "execution_count": 1,
   "metadata": {
    "collapsed": false,
    "deletable": true,
    "editable": true
   },
   "outputs": [
    {
     "name": "stderr",
     "output_type": "stream",
     "text": [
      "/Users/mchrist/Documents/Research/tsfresh/venv/lib/python2.7/site-packages/sklearn/cross_validation.py:44: DeprecationWarning: This module was deprecated in version 0.18 in favor of the model_selection module into which all the refactored classes and functions are moved. Also note that the interface of the new CV iterators are different from that of this module. This module will be removed in 0.20.\n",
      "  \"This module will be removed in 0.20.\", DeprecationWarning)\n",
      "/Users/mchrist/Documents/Research/tsfresh/venv/lib/python2.7/site-packages/statsmodels/compat/pandas.py:56: FutureWarning: The pandas.core.datetools module is deprecated and will be removed in a future version. Please use the pandas.tseries module instead.\n",
      "  from pandas.core import datetools\n"
     ]
    }
   ],
   "source": [
    "import pandas as pd\n",
    "from sklearn.pipeline import Pipeline\n",
    "from sklearn.cross_validation import train_test_split\n",
    "from sklearn.ensemble import RandomForestClassifier\n",
    "from sklearn.metrics import classification_report\n",
    "from tsfresh.examples.robot_execution_failures import download_robot_execution_failures\n",
    "from tsfresh.examples import load_robot_execution_failures\n",
    "from tsfresh.transformers import RelevantFeatureAugmenter"
   ]
  },
  {
   "cell_type": "code",
   "execution_count": 2,
   "metadata": {
    "collapsed": false,
    "deletable": true,
    "editable": true
   },
   "outputs": [
    {
     "data": {
      "text/plain": [
       "(1320, 8)"
      ]
     },
     "execution_count": 2,
     "metadata": {},
     "output_type": "execute_result"
    }
   ],
   "source": [
    "download_robot_execution_failures\n",
    "df, y = load_robot_execution_failures()\n",
    "df.shape"
   ]
  },
  {
   "cell_type": "code",
   "execution_count": 3,
   "metadata": {
    "collapsed": false,
    "deletable": true,
    "editable": true
   },
   "outputs": [
    {
     "data": {
      "text/plain": [
       "((990, 8), (330, 8))"
      ]
     },
     "execution_count": 3,
     "metadata": {},
     "output_type": "execute_result"
    }
   ],
   "source": [
    "# Here, df contains the time series of both train and test set. \n",
    "# We will split it into a train df_train and a test set  df_test:\n",
    "y_train, y_test = train_test_split(y)\n",
    "df_train = df.loc[df.id.isin(y_train.index)]\n",
    "df_test = df.loc[df.id.isin(y_test.index)]\n",
    "X_train = pd.DataFrame(index=y_train.index)\n",
    "X_test = pd.DataFrame(index=y_test.index)\n",
    "df_train.shape, df_test.shape"
   ]
  },
  {
   "cell_type": "code",
   "execution_count": 4,
   "metadata": {
    "collapsed": false,
    "deletable": true,
    "editable": true
   },
   "outputs": [],
   "source": [
    "ppl = Pipeline([('fresh', RelevantFeatureAugmenter(column_id='id', column_sort='time')),\n",
    "                ('clf', RandomForestClassifier())])"
   ]
  },
  {
   "cell_type": "code",
   "execution_count": 5,
   "metadata": {
    "collapsed": false,
    "deletable": true,
    "editable": true
   },
   "outputs": [
    {
     "name": "stderr",
     "output_type": "stream",
     "text": [
      "Feature Extraction: 100%|██████████| 6/6 [00:17<00:00,  2.77s/it]\n",
      "WARNING:tsfresh.feature_selection.feature_selector:[test_feature_significance] Feature d__symmetry_looking__r_0.85 is constant\n",
      "WARNING:tsfresh.feature_selection.feature_selector:[test_feature_significance] Feature b__value_count__value_nan is constant\n",
      "WARNING:tsfresh.feature_selection.feature_selector:[test_feature_significance] Feature f__mean_abs_change_quantiles__qh_0.2__ql_0.2 is constant\n",
      "WARNING:tsfresh.feature_selection.feature_selector:[test_feature_significance] Feature f__mean_abs_change_quantiles__qh_0.2__ql_0.4 is constant\n",
      "WARNING:tsfresh.feature_selection.feature_selector:[test_feature_significance] Feature b__mean_abs_change_quantiles__qh_0.2__ql_0.8 is constant\n",
      "WARNING:tsfresh.feature_selection.feature_selector:[test_feature_significance] Feature f__value_count__value_inf is constant\n",
      "WARNING:tsfresh.feature_selection.feature_selector:[test_feature_significance] Feature b__mean_abs_change_quantiles__qh_0.2__ql_0.2 is constant\n",
      "WARNING:tsfresh.feature_selection.feature_selector:[test_feature_significance] Feature b__symmetry_looking__r_0.55 is constant\n",
      "WARNING:tsfresh.feature_selection.feature_selector:[test_feature_significance] Feature c__symmetry_looking__r_0.25 is constant\n",
      "WARNING:tsfresh.feature_selection.feature_selector:[test_feature_significance] Feature d__large_standard_deviation__r_0.05 is constant\n",
      "WARNING:tsfresh.feature_selection.feature_selector:[test_feature_significance] Feature e__mean_abs_change_quantiles__qh_0.8__ql_0.8 is constant\n",
      "WARNING:tsfresh.feature_selection.feature_selector:[test_feature_significance] Feature b__symmetry_looking__r_0.85 is constant\n",
      "WARNING:tsfresh.feature_selection.feature_selector:[test_feature_significance] Feature d__symmetry_looking__r_0.75 is constant\n",
      "WARNING:tsfresh.feature_selection.feature_selector:[test_feature_significance] Feature f__large_number_of_peaks__n_1 is constant\n",
      "WARNING:tsfresh.feature_selection.feature_selector:[test_feature_significance] Feature f__value_count__value_-inf is constant\n",
      "WARNING:tsfresh.feature_selection.feature_selector:[test_feature_significance] Feature d__mean_abs_change_quantiles__qh_0.6__ql_0.6 is constant\n",
      "WARNING:tsfresh.feature_selection.feature_selector:[test_feature_significance] Feature c__mean_abs_change_quantiles__qh_0.6__ql_0.8 is constant\n",
      "WARNING:tsfresh.feature_selection.feature_selector:[test_feature_significance] Feature b__symmetry_looking__r_0.3 is constant\n",
      "WARNING:tsfresh.feature_selection.feature_selector:[test_feature_significance] Feature c__large_standard_deviation__r_0.15 is constant\n",
      "WARNING:tsfresh.feature_selection.feature_selector:[test_feature_significance] Feature c__symmetry_looking__r_0.8 is constant\n",
      "WARNING:tsfresh.feature_selection.feature_selector:[test_feature_significance] Feature c__large_standard_deviation__r_0.1 is constant\n",
      "WARNING:tsfresh.feature_selection.feature_selector:[test_feature_significance] Feature c__symmetry_looking__r_0.9 is constant\n",
      "WARNING:tsfresh.feature_selection.feature_selector:[test_feature_significance] Feature f__mean_abs_change_quantiles__qh_0.2__ql_0.6 is constant\n",
      "WARNING:tsfresh.feature_selection.feature_selector:[test_feature_significance] Feature b__mean_abs_change_quantiles__qh_0.6__ql_0.8 is constant\n",
      "WARNING:tsfresh.feature_selection.feature_selector:[test_feature_significance] Feature c__symmetry_looking__r_0.3 is constant\n",
      "WARNING:tsfresh.feature_selection.feature_selector:[test_feature_significance] Feature c__symmetry_looking__r_0.0 is constant\n",
      "WARNING:tsfresh.feature_selection.feature_selector:[test_feature_significance] Feature a__symmetry_looking__r_0.55 is constant\n",
      "WARNING:tsfresh.feature_selection.feature_selector:[test_feature_significance] Feature b__mean_abs_change_quantiles__qh_0.2__ql_0.6 is constant\n",
      "WARNING:tsfresh.feature_selection.feature_selector:[test_feature_significance] Feature c__symmetry_looking__r_0.6 is constant\n",
      "WARNING:tsfresh.feature_selection.feature_selector:[test_feature_significance] Feature c__symmetry_looking__r_0.7 is constant\n",
      "WARNING:tsfresh.feature_selection.feature_selector:[test_feature_significance] Feature c__symmetry_looking__r_0.4 is constant\n",
      "WARNING:tsfresh.feature_selection.feature_selector:[test_feature_significance] Feature c__symmetry_looking__r_0.5 is constant\n",
      "WARNING:tsfresh.feature_selection.feature_selector:[test_feature_significance] Feature f__large_number_of_peaks__n_3 is constant\n",
      "WARNING:tsfresh.feature_selection.feature_selector:[test_feature_significance] Feature b__symmetry_looking__r_0.4 is constant\n",
      "WARNING:tsfresh.feature_selection.feature_selector:[test_feature_significance] Feature d__mean_abs_change_quantiles__qh_0.2__ql_0.2 is constant\n",
      "WARNING:tsfresh.feature_selection.feature_selector:[test_feature_significance] Feature d__mean_abs_change_quantiles__qh_0.2__ql_0.8 is constant\n",
      "WARNING:tsfresh.feature_selection.feature_selector:[test_feature_significance] Feature b__symmetry_looking__r_0.6 is constant\n",
      "WARNING:tsfresh.feature_selection.feature_selector:[test_feature_significance] Feature b__symmetry_looking__r_0.0 is constant\n",
      "WARNING:tsfresh.feature_selection.feature_selector:[test_feature_significance] Feature c__value_count__value_inf is constant\n",
      "WARNING:tsfresh.feature_selection.feature_selector:[test_feature_significance] Feature b__length is constant\n",
      "WARNING:tsfresh.feature_selection.feature_selector:[test_feature_significance] Feature d__mean_abs_change_quantiles__qh_0.2__ql_0.6 is constant\n",
      "WARNING:tsfresh.feature_selection.feature_selector:[test_feature_significance] Feature b__symmetry_looking__r_0.8 is constant\n",
      "WARNING:tsfresh.feature_selection.feature_selector:[test_feature_significance] Feature d__mean_abs_change_quantiles__qh_0.2__ql_0.4 is constant\n",
      "WARNING:tsfresh.feature_selection.feature_selector:[test_feature_significance] Feature b__symmetry_looking__r_0.25 is constant\n",
      "WARNING:tsfresh.feature_selection.feature_selector:[test_feature_significance] Feature a__fft_coefficient__coeff_8 is constant\n",
      "WARNING:tsfresh.feature_selection.feature_selector:[test_feature_significance] Feature c__fft_coefficient__coeff_8 is constant\n",
      "WARNING:tsfresh.feature_selection.feature_selector:[test_feature_significance] Feature a__fft_coefficient__coeff_9 is constant\n",
      "WARNING:tsfresh.feature_selection.feature_selector:[test_feature_significance] Feature c__fft_coefficient__coeff_9 is constant\n",
      "WARNING:tsfresh.feature_selection.feature_selector:[test_feature_significance] Feature d__mean_abs_change_quantiles__qh_0.4__ql_0.4 is constant\n",
      "WARNING:tsfresh.feature_selection.feature_selector:[test_feature_significance] Feature f__fft_coefficient__coeff_9 is constant\n",
      "WARNING:tsfresh.feature_selection.feature_selector:[test_feature_significance] Feature e__large_standard_deviation__r_0.45 is constant\n",
      "WARNING:tsfresh.feature_selection.feature_selector:[test_feature_significance] Feature c__symmetry_looking__r_0.75 is constant\n",
      "WARNING:tsfresh.feature_selection.feature_selector:[test_feature_significance] Feature b__fft_coefficient__coeff_9 is constant\n",
      "WARNING:tsfresh.feature_selection.feature_selector:[test_feature_significance] Feature e__symmetry_looking__r_0.55 is constant\n",
      "WARNING:tsfresh.feature_selection.feature_selector:[test_feature_significance] Feature b__fft_coefficient__coeff_8 is constant\n",
      "WARNING:tsfresh.feature_selection.feature_selector:[test_feature_significance] Feature e__length is constant\n",
      "WARNING:tsfresh.feature_selection.feature_selector:[test_feature_significance] Feature c__symmetry_looking__r_0.45 is constant\n",
      "WARNING:tsfresh.feature_selection.feature_selector:[test_feature_significance] Feature e__symmetry_looking__r_0.25 is constant\n",
      "WARNING:tsfresh.feature_selection.feature_selector:[test_feature_significance] Feature b__large_standard_deviation__r_0.15 is constant\n",
      "WARNING:tsfresh.feature_selection.feature_selector:[test_feature_significance] Feature f__mean_abs_change_quantiles__qh_0.2__ql_0.8 is constant\n",
      "WARNING:tsfresh.feature_selection.feature_selector:[test_feature_significance] Feature a__symmetry_looking__r_0.85 is constant\n",
      "WARNING:tsfresh.feature_selection.feature_selector:[test_feature_significance] Feature a__symmetry_looking__r_0.8 is constant\n",
      "WARNING:tsfresh.feature_selection.feature_selector:[test_feature_significance] Feature a__symmetry_looking__r_0.9 is constant\n",
      "WARNING:tsfresh.feature_selection.feature_selector:[test_feature_significance] Feature e__symmetry_looking__r_0.95 is constant\n",
      "WARNING:tsfresh.feature_selection.feature_selector:[test_feature_significance] Feature a__symmetry_looking__r_0.5 is constant\n",
      "WARNING:tsfresh.feature_selection.feature_selector:[test_feature_significance] Feature a__symmetry_looking__r_0.6 is constant\n",
      "WARNING:tsfresh.feature_selection.feature_selector:[test_feature_significance] Feature a__symmetry_looking__r_0.7 is constant\n",
      "WARNING:tsfresh.feature_selection.feature_selector:[test_feature_significance] Feature a__symmetry_looking__r_0.0 is constant\n",
      "WARNING:tsfresh.feature_selection.feature_selector:[test_feature_significance] Feature b__mean_abs_change_quantiles__qh_0.4__ql_0.8 is constant\n",
      "WARNING:tsfresh.feature_selection.feature_selector:[test_feature_significance] Feature b__mean_abs_change_quantiles__qh_0.6__ql_0.6 is constant\n",
      "WARNING:tsfresh.feature_selection.feature_selector:[test_feature_significance] Feature c__mean_abs_change_quantiles__qh_0.4__ql_0.4 is constant\n",
      "WARNING:tsfresh.feature_selection.feature_selector:[test_feature_significance] Feature c__mean_abs_change_quantiles__qh_0.4__ql_0.6 is constant\n",
      "WARNING:tsfresh.feature_selection.feature_selector:[test_feature_significance] Feature c__mean_abs_change_quantiles__qh_0.8__ql_0.8 is constant\n",
      "WARNING:tsfresh.feature_selection.feature_selector:[test_feature_significance] Feature c__mean_abs_change_quantiles__qh_0.4__ql_0.8 is constant\n",
      "WARNING:tsfresh.feature_selection.feature_selector:[test_feature_significance] Feature b__value_count__value_-inf is constant\n",
      "WARNING:tsfresh.feature_selection.feature_selector:[test_feature_significance] Feature d__value_count__value_nan is constant\n",
      "WARNING:tsfresh.feature_selection.feature_selector:[test_feature_significance] Feature b__symmetry_looking__r_0.7 is constant\n",
      "WARNING:tsfresh.feature_selection.feature_selector:[test_feature_significance] Feature e__symmetry_looking__r_0.8 is constant\n",
      "WARNING:tsfresh.feature_selection.feature_selector:[test_feature_significance] Feature e__symmetry_looking__r_0.9 is constant\n",
      "WARNING:tsfresh.feature_selection.feature_selector:[test_feature_significance] Feature e__value_count__value_nan is constant\n",
      "WARNING:tsfresh.feature_selection.feature_selector:[test_feature_significance] Feature e__symmetry_looking__r_0.5 is constant\n",
      "WARNING:tsfresh.feature_selection.feature_selector:[test_feature_significance] Feature e__symmetry_looking__r_0.6 is constant\n",
      "WARNING:tsfresh.feature_selection.feature_selector:[test_feature_significance] Feature b__spkt_welch_density__coeff_8 is constant\n",
      "WARNING:tsfresh.feature_selection.feature_selector:[test_feature_significance] Feature e__symmetry_looking__r_0.7 is constant\n",
      "WARNING:tsfresh.feature_selection.feature_selector:[test_feature_significance] Feature c__large_standard_deviation__r_0.05 is constant\n",
      "WARNING:tsfresh.feature_selection.feature_selector:[test_feature_significance] Feature d__large_standard_deviation__r_0.0 is constant\n",
      "WARNING:tsfresh.feature_selection.feature_selector:[test_feature_significance] Feature b__symmetry_looking__r_0.9 is constant\n",
      "WARNING:tsfresh.feature_selection.feature_selector:[test_feature_significance] Feature e__symmetry_looking__r_0.0 is constant\n",
      "WARNING:tsfresh.feature_selection.feature_selector:[test_feature_significance] Feature a__symmetry_looking__r_0.65 is constant\n",
      "WARNING:tsfresh.feature_selection.feature_selector:[test_feature_significance] Feature b__symmetry_looking__r_0.75 is constant\n",
      "WARNING:tsfresh.feature_selection.feature_selector:[test_feature_significance] Feature a__length is constant\n",
      "WARNING:tsfresh.feature_selection.feature_selector:[test_feature_significance] Feature f__mean_abs_change_quantiles__qh_0.4__ql_0.4 is constant\n",
      "WARNING:tsfresh.feature_selection.feature_selector:[test_feature_significance] Feature e__spkt_welch_density__coeff_8 is constant\n",
      "WARNING:tsfresh.feature_selection.feature_selector:[test_feature_significance] Feature e__large_standard_deviation__r_0.05 is constant\n",
      "WARNING:tsfresh.feature_selection.feature_selector:[test_feature_significance] Feature c__value_count__value_nan is constant\n",
      "WARNING:tsfresh.feature_selection.feature_selector:[test_feature_significance] Feature c__value_count__value_-inf is constant\n",
      "WARNING:tsfresh.feature_selection.feature_selector:[test_feature_significance] Feature b__symmetry_looking__r_0.5 is constant\n",
      "WARNING:tsfresh.feature_selection.feature_selector:[test_feature_significance] Feature e__mean_abs_change_quantiles__qh_0.2__ql_0.4 is constant\n",
      "WARNING:tsfresh.feature_selection.feature_selector:[test_feature_significance] Feature e__mean_abs_change_quantiles__qh_0.2__ql_0.6 is constant\n",
      "WARNING:tsfresh.feature_selection.feature_selector:[test_feature_significance] Feature c__length is constant\n",
      "WARNING:tsfresh.feature_selection.feature_selector:[test_feature_significance] Feature c__large_standard_deviation__r_0.4 is constant\n",
      "WARNING:tsfresh.feature_selection.feature_selector:[test_feature_significance] Feature e__mean_abs_change_quantiles__qh_0.2__ql_0.2 is constant\n",
      "WARNING:tsfresh.feature_selection.feature_selector:[test_feature_significance] Feature e__mean_abs_change_quantiles__qh_0.2__ql_0.8 is constant\n",
      "WARNING:tsfresh.feature_selection.feature_selector:[test_feature_significance] Feature b__large_standard_deviation__r_0.4 is constant\n",
      "WARNING:tsfresh.feature_selection.feature_selector:[test_feature_significance] Feature c__large_standard_deviation__r_0.2 is constant\n",
      "WARNING:tsfresh.feature_selection.feature_selector:[test_feature_significance] Feature c__large_standard_deviation__r_0.0 is constant\n",
      "WARNING:tsfresh.feature_selection.feature_selector:[test_feature_significance] Feature b__large_standard_deviation__r_0.0 is constant\n",
      "WARNING:tsfresh.feature_selection.feature_selector:[test_feature_significance] Feature b__large_standard_deviation__r_0.1 is constant\n",
      "WARNING:tsfresh.feature_selection.feature_selector:[test_feature_significance] Feature c__mean_abs_change_quantiles__qh_0.6__ql_0.6 is constant\n",
      "WARNING:tsfresh.feature_selection.feature_selector:[test_feature_significance] Feature d__length is constant\n",
      "WARNING:tsfresh.feature_selection.feature_selector:[test_feature_significance] Feature d__mean_abs_change_quantiles__qh_0.4__ql_0.6 is constant\n",
      "WARNING:tsfresh.feature_selection.feature_selector:[test_feature_significance] Feature a__large_standard_deviation__r_0.15 is constant\n",
      "WARNING:tsfresh.feature_selection.feature_selector:[test_feature_significance] Feature f__mean_abs_change_quantiles__qh_0.4__ql_0.6 is constant\n",
      "WARNING:tsfresh.feature_selection.feature_selector:[test_feature_significance] Feature f__mean_abs_change_quantiles__qh_0.6__ql_0.6 is constant\n",
      "WARNING:tsfresh.feature_selection.feature_selector:[test_feature_significance] Feature e__symmetry_looking__r_0.65 is constant\n",
      "WARNING:tsfresh.feature_selection.feature_selector:[test_feature_significance] Feature f__length is constant\n",
      "WARNING:tsfresh.feature_selection.feature_selector:[test_feature_significance] Feature e__mean_abs_change_quantiles__qh_0.6__ql_0.6 is constant\n",
      "WARNING:tsfresh.feature_selection.feature_selector:[test_feature_significance] Feature c__symmetry_looking__r_0.85 is constant\n",
      "WARNING:tsfresh.feature_selection.feature_selector:[test_feature_significance] Feature c__mean_abs_change_quantiles__qh_0.2__ql_0.4 is constant\n",
      "WARNING:tsfresh.feature_selection.feature_selector:[test_feature_significance] Feature d__mean_abs_change_quantiles__qh_0.6__ql_0.8 is constant\n",
      "WARNING:tsfresh.feature_selection.feature_selector:[test_feature_significance] Feature b__value_count__value_inf is constant\n",
      "WARNING:tsfresh.feature_selection.feature_selector:[test_feature_significance] Feature c__symmetry_looking__r_0.55 is constant\n",
      "WARNING:tsfresh.feature_selection.feature_selector:[test_feature_significance] Feature e__symmetry_looking__r_0.35 is constant\n",
      "WARNING:tsfresh.feature_selection.feature_selector:[test_feature_significance] Feature b__mean_abs_change_quantiles__qh_0.4__ql_0.6 is constant\n",
      "WARNING:tsfresh.feature_selection.feature_selector:[test_feature_significance] Feature f__mean_abs_change_quantiles__qh_0.8__ql_0.8 is constant\n",
      "WARNING:tsfresh.feature_selection.feature_selector:[test_feature_significance] Feature b__mean_abs_change_quantiles__qh_0.4__ql_0.4 is constant\n",
      "WARNING:tsfresh.feature_selection.feature_selector:[test_feature_significance] Feature e__symmetry_looking__r_0.75 is constant\n",
      "WARNING:tsfresh.feature_selection.feature_selector:[test_feature_significance] Feature d__symmetry_looking__r_0.65 is constant\n",
      "WARNING:tsfresh.feature_selection.feature_selector:[test_feature_significance] Feature a__symmetry_looking__r_0.95 is constant\n",
      "WARNING:tsfresh.feature_selection.feature_selector:[test_feature_significance] Feature f__mean_abs_change_quantiles__qh_0.4__ql_0.8 is constant\n",
      "WARNING:tsfresh.feature_selection.feature_selector:[test_feature_significance] Feature c__symmetry_looking__r_0.95 is constant\n",
      "WARNING:tsfresh.feature_selection.feature_selector:[test_feature_significance] Feature e__symmetry_looking__r_0.85 is constant\n",
      "WARNING:tsfresh.feature_selection.feature_selector:[test_feature_significance] Feature a__large_standard_deviation__r_0.1 is constant\n",
      "WARNING:tsfresh.feature_selection.feature_selector:[test_feature_significance] Feature a__large_standard_deviation__r_0.0 is constant\n",
      "WARNING:tsfresh.feature_selection.feature_selector:[test_feature_significance] Feature a__large_standard_deviation__r_0.2 is constant\n",
      "WARNING:tsfresh.feature_selection.feature_selector:[test_feature_significance] Feature d__mean_abs_change_quantiles__qh_0.4__ql_0.8 is constant\n",
      "WARNING:tsfresh.feature_selection.feature_selector:[test_feature_significance] Feature e__mean_abs_change_quantiles__qh_0.6__ql_0.8 is constant\n",
      "WARNING:tsfresh.feature_selection.feature_selector:[test_feature_significance] Feature e__large_standard_deviation__r_0.1 is constant\n",
      "WARNING:tsfresh.feature_selection.feature_selector:[test_feature_significance] Feature e__large_standard_deviation__r_0.0 is constant\n",
      "WARNING:tsfresh.feature_selection.feature_selector:[test_feature_significance] Feature a__value_count__value_-inf is constant\n",
      "WARNING:tsfresh.feature_selection.feature_selector:[test_feature_significance] Feature b__symmetry_looking__r_0.35 is constant\n",
      "WARNING:tsfresh.feature_selection.feature_selector:[test_feature_significance] Feature f__large_number_of_peaks__n_5 is constant\n",
      "WARNING:tsfresh.feature_selection.feature_selector:[test_feature_significance] Feature b__mean_abs_change_quantiles__qh_0.8__ql_0.8 is constant\n",
      "WARNING:tsfresh.feature_selection.feature_selector:[test_feature_significance] Feature b__large_number_of_peaks__n_1 is constant\n",
      "WARNING:tsfresh.feature_selection.feature_selector:[test_feature_significance] Feature b__large_standard_deviation__r_0.05 is constant\n",
      "WARNING:tsfresh.feature_selection.feature_selector:[test_feature_significance] Feature b__large_number_of_peaks__n_3 is constant\n",
      "WARNING:tsfresh.feature_selection.feature_selector:[test_feature_significance] Feature b__large_number_of_peaks__n_5 is constant\n",
      "WARNING:tsfresh.feature_selection.feature_selector:[test_feature_significance] Feature e__symmetry_looking__r_0.4 is constant\n",
      "WARNING:tsfresh.feature_selection.feature_selector:[test_feature_significance] Feature f__value_count__value_nan is constant\n",
      "WARNING:tsfresh.feature_selection.feature_selector:[test_feature_significance] Feature d__large_standard_deviation__r_0.1 is constant\n",
      "WARNING:tsfresh.feature_selection.feature_selector:[test_feature_significance] Feature d__symmetry_looking__r_0.55 is constant\n",
      "WARNING:tsfresh.feature_selection.feature_selector:[test_feature_significance] Feature d__symmetry_looking__r_0.95 is constant\n",
      "WARNING:tsfresh.feature_selection.feature_selector:[test_feature_significance] Feature d__mean_abs_change_quantiles__qh_0.8__ql_0.8 is constant\n",
      "WARNING:tsfresh.feature_selection.feature_selector:[test_feature_significance] Feature e__symmetry_looking__r_0.3 is constant\n",
      "WARNING:tsfresh.feature_selection.feature_selector:[test_feature_significance] Feature b__symmetry_looking__r_0.45 is constant\n",
      "WARNING:tsfresh.feature_selection.feature_selector:[test_feature_significance] Feature d__large_standard_deviation__r_0.15 is constant\n",
      "WARNING:tsfresh.feature_selection.feature_selector:[test_feature_significance] Feature a__large_number_of_peaks__n_3 is constant\n",
      "WARNING:tsfresh.feature_selection.feature_selector:[test_feature_significance] Feature e__large_standard_deviation__r_0.15 is constant\n",
      "WARNING:tsfresh.feature_selection.feature_selector:[test_feature_significance] Feature a__large_number_of_peaks__n_1 is constant\n",
      "WARNING:tsfresh.feature_selection.feature_selector:[test_feature_significance] Feature a__large_number_of_peaks__n_5 is constant\n",
      "WARNING:tsfresh.feature_selection.feature_selector:[test_feature_significance] Feature a__symmetry_looking__r_0.75 is constant\n",
      "WARNING:tsfresh.feature_selection.feature_selector:[test_feature_significance] Feature b__symmetry_looking__r_0.65 is constant\n",
      "WARNING:tsfresh.feature_selection.feature_selector:[test_feature_significance] Feature a__value_count__value_inf is constant\n",
      "WARNING:tsfresh.feature_selection.feature_selector:[test_feature_significance] Feature a__spkt_welch_density__coeff_8 is constant\n",
      "WARNING:tsfresh.feature_selection.feature_selector:[test_feature_significance] Feature e__value_count__value_inf is constant\n",
      "WARNING:tsfresh.feature_selection.feature_selector:[test_feature_significance] Feature d__fft_coefficient__coeff_9 is constant\n",
      "WARNING:tsfresh.feature_selection.feature_selector:[test_feature_significance] Feature d__fft_coefficient__coeff_8 is constant\n",
      "WARNING:tsfresh.feature_selection.feature_selector:[test_feature_significance] Feature c__mean_abs_change_quantiles__qh_0.2__ql_0.8 is constant\n",
      "WARNING:tsfresh.feature_selection.feature_selector:[test_feature_significance] Feature c__mean_abs_change_quantiles__qh_0.2__ql_0.6 is constant\n",
      "WARNING:tsfresh.feature_selection.feature_selector:[test_feature_significance] Feature a__mean_abs_change_quantiles__qh_0.8__ql_0.8 is constant\n",
      "WARNING:tsfresh.feature_selection.feature_selector:[test_feature_significance] Feature c__mean_abs_change_quantiles__qh_0.2__ql_0.2 is constant\n",
      "WARNING:tsfresh.feature_selection.feature_selector:[test_feature_significance] Feature d__value_count__value_-inf is constant\n",
      "WARNING:tsfresh.feature_selection.feature_selector:[test_feature_significance] Feature a__mean_abs_change_quantiles__qh_0.2__ql_0.8 is constant\n",
      "WARNING:tsfresh.feature_selection.feature_selector:[test_feature_significance] Feature e__value_count__value_-inf is constant\n",
      "WARNING:tsfresh.feature_selection.feature_selector:[test_feature_significance] Feature a__symmetry_looking__r_0.45 is constant\n",
      "WARNING:tsfresh.feature_selection.feature_selector:[test_feature_significance] Feature a__mean_abs_change_quantiles__qh_0.2__ql_0.2 is constant\n",
      "WARNING:tsfresh.feature_selection.feature_selector:[test_feature_significance] Feature b__symmetry_looking__r_0.95 is constant\n",
      "WARNING:tsfresh.feature_selection.feature_selector:[test_feature_significance] Feature a__mean_abs_change_quantiles__qh_0.2__ql_0.4 is constant\n",
      "WARNING:tsfresh.feature_selection.feature_selector:[test_feature_significance] Feature a__mean_abs_change_quantiles__qh_0.2__ql_0.6 is constant\n",
      "WARNING:tsfresh.feature_selection.feature_selector:[test_feature_significance] Feature d__value_count__value_inf is constant\n",
      "WARNING:tsfresh.feature_selection.feature_selector:[test_feature_significance] Feature e__fft_coefficient__coeff_8 is constant\n",
      "WARNING:tsfresh.feature_selection.feature_selector:[test_feature_significance] Feature e__fft_coefficient__coeff_9 is constant\n",
      "WARNING:tsfresh.feature_selection.feature_selector:[test_feature_significance] Feature f__symmetry_looking__r_0.0 is constant\n",
      "WARNING:tsfresh.feature_selection.feature_selector:[test_feature_significance] Feature c__large_number_of_peaks__n_5 is constant\n",
      "WARNING:tsfresh.feature_selection.feature_selector:[test_feature_significance] Feature c__large_number_of_peaks__n_1 is constant\n",
      "WARNING:tsfresh.feature_selection.feature_selector:[test_feature_significance] Feature a__value_count__value_nan is constant\n",
      "WARNING:tsfresh.feature_selection.feature_selector:[test_feature_significance] Feature f__spkt_welch_density__coeff_8 is constant\n",
      "WARNING:tsfresh.feature_selection.feature_selector:[test_feature_significance] Feature c__large_standard_deviation__r_0.45 is constant\n",
      "WARNING:tsfresh.feature_selection.feature_selector:[test_feature_significance] Feature d__spkt_welch_density__coeff_8 is constant\n",
      "WARNING:tsfresh.feature_selection.feature_selector:[test_feature_significance] Feature e__symmetry_looking__r_0.45 is constant\n",
      "WARNING:tsfresh.feature_selection.feature_selector:[test_feature_significance] Feature a__mean_abs_change_quantiles__qh_0.6__ql_0.6 is constant\n",
      "WARNING:tsfresh.feature_selection.feature_selector:[test_feature_significance] Feature c__spkt_welch_density__coeff_8 is constant\n",
      "WARNING:tsfresh.feature_selection.feature_selector:[test_feature_significance] Feature c__symmetry_looking__r_0.65 is constant\n",
      "WARNING:tsfresh.feature_selection.feature_selector:[test_feature_significance] Feature a__mean_abs_change_quantiles__qh_0.6__ql_0.8 is constant\n",
      "WARNING:tsfresh.feature_selection.feature_selector:[test_feature_significance] Feature d__large_number_of_peaks__n_3 is constant\n",
      "WARNING:tsfresh.feature_selection.feature_selector:[test_feature_significance] Feature f__mean_abs_change_quantiles__qh_0.6__ql_0.8 is constant\n",
      "WARNING:tsfresh.feature_selection.feature_selector:[test_feature_significance] Feature d__large_number_of_peaks__n_5 is constant\n",
      "WARNING:tsfresh.feature_selection.feature_selector:[test_feature_significance] Feature e__mean_abs_change_quantiles__qh_0.4__ql_0.8 is constant\n",
      "WARNING:tsfresh.feature_selection.feature_selector:[test_feature_significance] Feature e__mean_abs_change_quantiles__qh_0.4__ql_0.6 is constant\n",
      "WARNING:tsfresh.feature_selection.feature_selector:[test_feature_significance] Feature e__mean_abs_change_quantiles__qh_0.4__ql_0.4 is constant\n",
      "WARNING:tsfresh.feature_selection.feature_selector:[test_feature_significance] Feature f__fft_coefficient__coeff_8 is constant\n",
      "WARNING:tsfresh.feature_selection.feature_selector:[test_feature_significance] Feature c__symmetry_looking__r_0.35 is constant\n",
      "WARNING:tsfresh.feature_selection.feature_selector:[test_feature_significance] Feature b__large_standard_deviation__r_0.45 is constant\n",
      "WARNING:tsfresh.feature_selection.feature_selector:[test_feature_significance] Feature d__symmetry_looking__r_0.9 is constant\n",
      "WARNING:tsfresh.feature_selection.feature_selector:[test_feature_significance] Feature a__large_standard_deviation__r_0.05 is constant\n",
      "WARNING:tsfresh.feature_selection.feature_selector:[test_feature_significance] Feature d__symmetry_looking__r_0.8 is constant\n",
      "WARNING:tsfresh.feature_selection.feature_selector:[test_feature_significance] Feature b__mean_abs_change_quantiles__qh_0.2__ql_0.4 is constant\n",
      "WARNING:tsfresh.feature_selection.feature_selector:[test_feature_significance] Feature a__mean_abs_change_quantiles__qh_0.4__ql_0.8 is constant\n",
      "WARNING:tsfresh.feature_selection.feature_selector:[test_feature_significance] Feature c__large_number_of_peaks__n_3 is constant\n",
      "WARNING:tsfresh.feature_selection.feature_selector:[test_feature_significance] Feature a__mean_abs_change_quantiles__qh_0.4__ql_0.6 is constant\n",
      "WARNING:tsfresh.feature_selection.feature_selector:[test_feature_significance] Feature d__symmetry_looking__r_0.0 is constant\n",
      "WARNING:tsfresh.feature_selection.feature_selector:[test_feature_significance] Feature d__symmetry_looking__r_0.7 is constant\n",
      "WARNING:tsfresh.feature_selection.feature_selector:[test_feature_significance] Feature a__mean_abs_change_quantiles__qh_0.4__ql_0.4 is constant\n",
      "WARNING:tsfresh.feature_selection.feature_selector:[test_feature_significance] Feature d__symmetry_looking__r_0.6 is constant\n",
      "WARNING:tsfresh.feature_selection.feature_selector:[test_feature_significance] Feature d__symmetry_looking__r_0.5 is constant\n",
      "WARNING:tsfresh.feature_selection.feature_selector:[test_feature_significance] Feature e__large_number_of_peaks__n_5 is constant\n",
      "WARNING:tsfresh.feature_selection.feature_selector:[test_feature_significance] Feature e__large_number_of_peaks__n_3 is constant\n",
      "WARNING:tsfresh.feature_selection.feature_selector:[test_feature_significance] Feature e__large_number_of_peaks__n_1 is constant\n",
      "Feature Extraction: 100%|██████████| 6/6 [00:03<00:00,  1.44it/s]\n"
     ]
    },
    {
     "data": {
      "text/plain": [
       "Pipeline(steps=[('fresh', RelevantFeatureAugmenter(chunksize=None, column_id=None, column_kind=None,\n",
       "             column_sort=None, column_value=None,\n",
       "             default_fc_parameters=None, disable_progressbar=None,\n",
       "             fdr_level=None, filter_only_tsfresh_features=True,\n",
       "             hypotheses_ind...imators=10, n_jobs=1, oob_score=False, random_state=None,\n",
       "            verbose=0, warm_start=False))])"
      ]
     },
     "execution_count": 5,
     "metadata": {},
     "output_type": "execute_result"
    }
   ],
   "source": [
    "# for the fit on the train test set, we set the fresh__timeseries_container to `df_train`\n",
    "ppl.set_params(fresh__timeseries_container=df_train)\n",
    "ppl.fit(X_train, y_train)"
   ]
  },
  {
   "cell_type": "code",
   "execution_count": 6,
   "metadata": {
    "collapsed": false,
    "deletable": true,
    "editable": true
   },
   "outputs": [
    {
     "name": "stderr",
     "output_type": "stream",
     "text": [
      "Feature Extraction: 100%|██████████| 6/6 [00:01<00:00,  4.33it/s]\n"
     ]
    }
   ],
   "source": [
    "# for the predict on the test test set, we set the fresh__timeseries_container to `df_test`\n",
    "ppl.set_params(fresh__timeseries_container=df_test)\n",
    "y_pred = ppl.predict(X_test)"
   ]
  },
  {
   "cell_type": "code",
   "execution_count": 7,
   "metadata": {
    "collapsed": false,
    "deletable": true,
    "editable": true
   },
   "outputs": [
    {
     "name": "stdout",
     "output_type": "stream",
     "text": [
      "             precision    recall  f1-score   support\n",
      "\n",
      "          0       1.00      1.00      1.00        10\n",
      "          1       1.00      1.00      1.00        12\n",
      "\n",
      "avg / total       1.00      1.00      1.00        22\n",
      "\n"
     ]
    }
   ],
   "source": [
    "print(classification_report(y_test, y_pred))"
   ]
  }
 ],
 "metadata": {
  "kernelspec": {
   "display_name": "Python 2",
   "language": "python",
   "name": "python2"
  },
  "language_info": {
   "codemirror_mode": {
    "name": "ipython",
    "version": 2
   },
   "file_extension": ".py",
   "mimetype": "text/x-python",
   "name": "python",
   "nbconvert_exporter": "python",
   "pygments_lexer": "ipython2",
   "version": "2.7.11"
  }
 },
 "nbformat": 4,
 "nbformat_minor": 1
}
